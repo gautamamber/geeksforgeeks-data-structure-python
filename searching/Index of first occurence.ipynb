{
 "cells": [
  {
   "cell_type": "code",
   "execution_count": 1,
   "metadata": {},
   "outputs": [],
   "source": [
    "# naive solution\n",
    "def first_index(l, x):\n",
    "    for i in range(len(l)):\n",
    "        if l[i] == x:\n",
    "            return i\n",
    "    return -1\n"
   ]
  },
  {
   "cell_type": "code",
   "execution_count": 2,
   "metadata": {},
   "outputs": [
    {
     "data": {
      "text/plain": [
       "4"
      ]
     },
     "execution_count": 2,
     "metadata": {},
     "output_type": "execute_result"
    }
   ],
   "source": [
    "first_index([10,20,30,50,43,43], 43)"
   ]
  },
  {
   "cell_type": "code",
   "execution_count": 6,
   "metadata": {},
   "outputs": [],
   "source": [
    "def first_index(l, x):\n",
    "    low = 0\n",
    "    high = len(l) - 1\n",
    "    while low <= high:\n",
    "        mid = (low + high) // 2\n",
    "        if l[mid] > x:\n",
    "            high = mid - 1\n",
    "        elif l[mid] < x:\n",
    "            low = mid + 1\n",
    "        else:\n",
    "            if mid == 0 or l[mid-1] != l[mid]:\n",
    "                    return mid\n",
    "            else:\n",
    "                high = mid - 1\n",
    "    return -1"
   ]
  },
  {
   "cell_type": "code",
   "execution_count": 7,
   "metadata": {},
   "outputs": [
    {
     "data": {
      "text/plain": [
       "4"
      ]
     },
     "execution_count": 7,
     "metadata": {},
     "output_type": "execute_result"
    }
   ],
   "source": [
    "first_index([10,20,30,50,43,43], 43)"
   ]
  },
  {
   "cell_type": "code",
   "execution_count": null,
   "metadata": {},
   "outputs": [],
   "source": []
  }
 ],
 "metadata": {
  "kernelspec": {
   "display_name": "Python 3",
   "language": "python",
   "name": "python3"
  },
  "language_info": {
   "codemirror_mode": {
    "name": "ipython",
    "version": 3
   },
   "file_extension": ".py",
   "mimetype": "text/x-python",
   "name": "python",
   "nbconvert_exporter": "python",
   "pygments_lexer": "ipython3",
   "version": "3.6.9"
  }
 },
 "nbformat": 4,
 "nbformat_minor": 4
}
