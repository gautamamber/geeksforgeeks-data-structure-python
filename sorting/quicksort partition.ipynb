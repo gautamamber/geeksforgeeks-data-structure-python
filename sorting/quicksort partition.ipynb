{
 "cells": [
  {
   "cell_type": "code",
   "execution_count": 5,
   "metadata": {},
   "outputs": [],
   "source": [
    "# naive solution\n",
    "def naive_partition(arr, p):\n",
    "    n = len(arr)\n",
    "    arr[p], arr[n-1] = arr[n-1], arr[p]\n",
    "    temp = []\n",
    "    for x in arr:\n",
    "        if x <= arr[n-1]:\n",
    "            temp.append(x)\n",
    "    for x in arr:\n",
    "        if x > arr[n-1]:\n",
    "            temp.append(x)\n",
    "    for i in range(len(arr)):\n",
    "        arr[i] = temp[i]\n",
    "    return arr"
   ]
  },
  {
   "cell_type": "code",
   "execution_count": 6,
   "metadata": {},
   "outputs": [
    {
     "data": {
      "text/plain": [
       "[5, 6, 8, 13, 9, 12, 11]"
      ]
     },
     "execution_count": 6,
     "metadata": {},
     "output_type": "execute_result"
    }
   ],
   "source": [
    "naive_partition([5,13,6,9,12,8,11], 5)"
   ]
  },
  {
   "cell_type": "code",
   "execution_count": 7,
   "metadata": {},
   "outputs": [],
   "source": [
    "# lomuto partition"
   ]
  },
  {
   "cell_type": "code",
   "execution_count": 13,
   "metadata": {},
   "outputs": [],
   "source": [
    "def lomuto_partition(arr, l, h):\n",
    "    pivot = arr[h]\n",
    "    i = l-1\n",
    "    for j in range(l, h):\n",
    "        if arr[j] < pivot:\n",
    "            i = i + 1\n",
    "            arr[i], arr[j] = arr[j], arr[i]\n",
    "    arr[i+1], arr[h] = arr[h], arr[i+1]\n",
    "    return arr"
   ]
  },
  {
   "cell_type": "code",
   "execution_count": 14,
   "metadata": {},
   "outputs": [
    {
     "data": {
      "text/plain": [
       "[5, 6, 8, 9, 12, 13]"
      ]
     },
     "execution_count": 14,
     "metadata": {},
     "output_type": "execute_result"
    }
   ],
   "source": [
    "lomuto_partition([5,13,6,9,12,8], 0, 5)"
   ]
  },
  {
   "cell_type": "code",
   "execution_count": 26,
   "metadata": {},
   "outputs": [],
   "source": [
    "# hoare partition\n",
    "def hoare_partition(arr, l, h):\n",
    "    pivot = arr[l]\n",
    "    i = l-1\n",
    "    j = h+1\n",
    "    while True:\n",
    "        i = i + 1\n",
    "        while arr[i] < pivot:\n",
    "            i = i + 1\n",
    "        j = j - 1\n",
    "        while arr[j] > pivot:\n",
    "            j = j - 1\n",
    "        if i >= j:\n",
    "            return j\n",
    "        arr[i], arr[j] = arr[j], arr[j]\n",
    "    return arr"
   ]
  },
  {
   "cell_type": "code",
   "execution_count": 27,
   "metadata": {},
   "outputs": [
    {
     "data": {
      "text/plain": [
       "3"
      ]
     },
     "execution_count": 27,
     "metadata": {},
     "output_type": "execute_result"
    }
   ],
   "source": [
    "hoare_partition([5,3,8,4,2,7,1,10], 0 , 7)"
   ]
  },
  {
   "cell_type": "code",
   "execution_count": 35,
   "metadata": {},
   "outputs": [],
   "source": [
    "# quick sort using lumoto partition\n",
    "def quick_sort_lumoto(arr, l, h):\n",
    "    if l < h:\n",
    "        p = lomuto_partition(arr, l, h)\n",
    "        quick_sort_lumoto(arr, l, p-1)\n",
    "        quick_sort_lumoto(arr, p+1, h)\n",
    "#     return arr"
   ]
  },
  {
   "cell_type": "code",
   "execution_count": 36,
   "metadata": {},
   "outputs": [],
   "source": [
    "# without tail recursive\n",
    "def q_sort(arr, l, r):\n",
    "    while (l < r):\n",
    "        p = lomuto_partition(arr, l ,r)\n",
    "        q_sort(arr, l, p)\n",
    "        l = p + 1"
   ]
  },
  {
   "cell_type": "code",
   "execution_count": null,
   "metadata": {},
   "outputs": [],
   "source": []
  }
 ],
 "metadata": {
  "kernelspec": {
   "display_name": "Python 3",
   "language": "python",
   "name": "python3"
  },
  "language_info": {
   "codemirror_mode": {
    "name": "ipython",
    "version": 3
   },
   "file_extension": ".py",
   "mimetype": "text/x-python",
   "name": "python",
   "nbconvert_exporter": "python",
   "pygments_lexer": "ipython3",
   "version": "3.6.9"
  }
 },
 "nbformat": 4,
 "nbformat_minor": 4
}
