{
 "cells": [
  {
   "cell_type": "code",
   "execution_count": 2,
   "metadata": {},
   "outputs": [],
   "source": [
    "def merge(a, low, mid, high):\n",
    "    left = a[low:mid+1]\n",
    "    right = a[mid+1: high+1]\n",
    "    i = 0\n",
    "    j = 0\n",
    "    k = low\n",
    "    while i < len(left) and j < len(right):\n",
    "        if left[i] <= right[j]:\n",
    "            a[k] = left[i]\n",
    "            k = k + 1\n",
    "            i = i + 1\n",
    "        else:\n",
    "            a[k] = right[j]\n",
    "            k = k + 1\n",
    "            j = j + 1\n",
    "    while i < len(left):\n",
    "        a[k] = left[i]\n",
    "        i = i + 1\n",
    "        k = k + 1\n",
    "    while j < len(right):\n",
    "        a[k] = right[j]\n",
    "        j = j + 1\n",
    "        k = k + 1\n",
    "    return a"
   ]
  },
  {
   "cell_type": "markdown",
   "metadata": {},
   "source": []
  },
  {
   "cell_type": "code",
   "execution_count": 3,
   "metadata": {},
   "outputs": [
    {
     "data": {
      "text/plain": [
       "[8, 10, 11, 15, 20, 40, 55]"
      ]
     },
     "execution_count": 3,
     "metadata": {},
     "output_type": "execute_result"
    }
   ],
   "source": [
    "merge([10,15,20,40,8,11,55], 0, 3, 6)"
   ]
  },
  {
   "cell_type": "code",
   "execution_count": 5,
   "metadata": {},
   "outputs": [],
   "source": [
    "def merge_sort(arr, l, r):\n",
    "    if r > l:\n",
    "        m = (l+r)//2\n",
    "        merge_sort(arr, l, m)\n",
    "        merge_sort(arr, m+1, r)\n",
    "        merge(arr, l, m, r)"
   ]
  },
  {
   "cell_type": "code",
   "execution_count": null,
   "metadata": {},
   "outputs": [],
   "source": []
  }
 ],
 "metadata": {
  "kernelspec": {
   "display_name": "Python 3",
   "language": "python",
   "name": "python3"
  },
  "language_info": {
   "codemirror_mode": {
    "name": "ipython",
    "version": 3
   },
   "file_extension": ".py",
   "mimetype": "text/x-python",
   "name": "python",
   "nbconvert_exporter": "python",
   "pygments_lexer": "ipython3",
   "version": "3.6.9"
  }
 },
 "nbformat": 4,
 "nbformat_minor": 4
}
