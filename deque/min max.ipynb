{
 "cells": [
  {
   "cell_type": "code",
   "execution_count": 7,
   "metadata": {},
   "outputs": [],
   "source": [
    "from collections import deque\n",
    "class MyDS:\n",
    "    def __init__(self):\n",
    "        self.dq = deque()\n",
    "    \n",
    "    def insert_min(self, x):\n",
    "        self.dq.appendleft(x)\n",
    "    \n",
    "    def insert_max(self, x):\n",
    "        self.dq.append(x)\n",
    "    \n",
    "    def extract_min(self):\n",
    "        return self.dq.popleft()\n",
    "    \n",
    "    def extract_max(self):\n",
    "        return self.dq.pop()\n",
    "    \n",
    "    def get_min():\n",
    "        return self.dq[0]\n",
    "    \n",
    "    def get_max():\n",
    "        return self.dq[-1]"
   ]
  },
  {
   "cell_type": "code",
   "execution_count": 8,
   "metadata": {},
   "outputs": [],
   "source": [
    "d = MyDS()"
   ]
  },
  {
   "cell_type": "code",
   "execution_count": 9,
   "metadata": {},
   "outputs": [
    {
     "name": "stdout",
     "output_type": "stream",
     "text": [
      "20\n",
      "3\n"
     ]
    }
   ],
   "source": [
    "d.insert_min(10)\n",
    "d.insert_min(5)\n",
    "d.insert_max(20)\n",
    "d.insert_min(3)\n",
    "print(d.extract_max())\n",
    "print(d.extract_min())"
   ]
  },
  {
   "cell_type": "code",
   "execution_count": null,
   "metadata": {},
   "outputs": [],
   "source": []
  }
 ],
 "metadata": {
  "kernelspec": {
   "display_name": "Python 3",
   "language": "python",
   "name": "python3"
  },
  "language_info": {
   "codemirror_mode": {
    "name": "ipython",
    "version": 3
   },
   "file_extension": ".py",
   "mimetype": "text/x-python",
   "name": "python",
   "nbconvert_exporter": "python",
   "pygments_lexer": "ipython3",
   "version": "3.6.9"
  }
 },
 "nbformat": 4,
 "nbformat_minor": 4
}
