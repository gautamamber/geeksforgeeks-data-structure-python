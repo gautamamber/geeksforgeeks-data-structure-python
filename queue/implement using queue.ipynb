{
 "cells": [
  {
   "cell_type": "code",
   "execution_count": 1,
   "metadata": {},
   "outputs": [
    {
     "name": "stdout",
     "output_type": "stream",
     "text": [
      "[10, 20, 30]\n",
      "10\n",
      "20\n",
      "2\n",
      "30\n",
      "40\n"
     ]
    }
   ],
   "source": [
    "q = []\n",
    "q.append(10)\n",
    "q.append(20)\n",
    "q.append(30)\n",
    "print(q)\n",
    "print(q.pop(0))\n",
    "q.append(40)\n",
    "print(q.pop(0))\n",
    "print(len(q))\n",
    "print(q[0])\n",
    "print(q[-1])"
   ]
  },
  {
   "cell_type": "code",
   "execution_count": 2,
   "metadata": {},
   "outputs": [],
   "source": [
    "# use collections\n",
    "from collections import deque"
   ]
  },
  {
   "cell_type": "code",
   "execution_count": 5,
   "metadata": {},
   "outputs": [
    {
     "name": "stdout",
     "output_type": "stream",
     "text": [
      "deque([10, 20, 30, 40])\n",
      "10\n",
      "None\n",
      "4\n",
      "20\n",
      "50\n"
     ]
    }
   ],
   "source": [
    "q = deque()\n",
    "q.append(10)\n",
    "q.append(20)\n",
    "q.append(30)\n",
    "q.append(40)\n",
    "print(q)\n",
    "print(q.popleft())\n",
    "print(q.append(50))\n",
    "print(len(q))\n",
    "print(q[0])\n",
    "\n",
    "print(q[-1])"
   ]
  },
  {
   "cell_type": "code",
   "execution_count": null,
   "metadata": {},
   "outputs": [],
   "source": []
  }
 ],
 "metadata": {
  "kernelspec": {
   "display_name": "Python 3",
   "language": "python",
   "name": "python3"
  },
  "language_info": {
   "codemirror_mode": {
    "name": "ipython",
    "version": 3
   },
   "file_extension": ".py",
   "mimetype": "text/x-python",
   "name": "python",
   "nbconvert_exporter": "python",
   "pygments_lexer": "ipython3",
   "version": "3.6.9"
  }
 },
 "nbformat": 4,
 "nbformat_minor": 4
}
