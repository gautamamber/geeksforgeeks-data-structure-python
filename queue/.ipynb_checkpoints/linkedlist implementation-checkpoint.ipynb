{
 "cells": [
  {
   "cell_type": "code",
   "execution_count": 1,
   "metadata": {},
   "outputs": [],
   "source": [
    "class MyQueue:\n",
    "    def __init__(self):\n",
    "        self.front = None\n",
    "        self.read = None\n",
    "        self.sz = 0\n",
    "        \n",
    "    def size(self):\n",
    "        return self.sz\n",
    "    \n",
    "    def is_empty(self):\n",
    "        return (self.sz == 0)\n",
    "\n",
    "    def get_front(self):\n",
    "        return self.front.key\n",
    "    \n",
    "    def get_read(self):\n",
    "        return self.read.key\n",
    "    \n",
    "    \n",
    "    def enque(self, x):\n",
    "        temp = Node(x)\n",
    "        if self.rear == None:\n",
    "            self.front = temp\n",
    "        else:\n",
    "            self.rear.next = temp\n",
    "        "
   ]
  },
  {
   "cell_type": "code",
   "execution_count": null,
   "metadata": {},
   "outputs": [],
   "source": []
  }
 ],
 "metadata": {
  "kernelspec": {
   "display_name": "Python 3",
   "language": "python",
   "name": "python3"
  },
  "language_info": {
   "codemirror_mode": {
    "name": "ipython",
    "version": 3
   },
   "file_extension": ".py",
   "mimetype": "text/x-python",
   "name": "python",
   "nbconvert_exporter": "python",
   "pygments_lexer": "ipython3",
   "version": "3.6.9"
  }
 },
 "nbformat": 4,
 "nbformat_minor": 4
}
