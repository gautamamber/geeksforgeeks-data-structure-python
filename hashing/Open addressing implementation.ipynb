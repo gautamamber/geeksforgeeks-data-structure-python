{
 "cells": [
  {
   "cell_type": "code",
   "execution_count": 1,
   "metadata": {},
   "outputs": [],
   "source": [
    "# we are using linear proabing"
   ]
  },
  {
   "cell_type": "code",
   "execution_count": 5,
   "metadata": {},
   "outputs": [],
   "source": [
    "class MyHash:\n",
    "    def __init__(self, c):\n",
    "        self.cap = c\n",
    "        self.table = [-1] * c\n",
    "        self.size = 0\n",
    "        \n",
    "    def hash(self, x):\n",
    "        return x%self.cap\n",
    "    \n",
    "    def insert(self, x):\n",
    "        if self.size == self.cap:\n",
    "            return False\n",
    "        \n",
    "        if self.search(x) == True:\n",
    "            return False\n",
    "        \n",
    "        i = self.hash(x)\n",
    "        t = self.table\n",
    "        while t[i] not in (-1, -2):\n",
    "            i = (i + 1) % self.cap\n",
    "        t[i] = x\n",
    "        self.size = self.size + 1\n",
    "        return True\n",
    "    \n",
    "    def search(self, x):\n",
    "        h = self.hash(x)\n",
    "        t = self.table\n",
    "        i = h\n",
    "        while t[i] != -1:\n",
    "            if t[i] == x:\n",
    "                # find the key\n",
    "                return True\n",
    "            i = (i+1)%self.cap\n",
    "            if i == h:\n",
    "                # whole table is full, come back to original position, not found\n",
    "                return False\n",
    "        # we got -1 means value to be search not found\n",
    "        return False\n",
    "    \n",
    "    def remove(self, x):\n",
    "        h = self.hash(x)\n",
    "        t = self.table\n",
    "        i = h\n",
    "        while t[i] != -1:\n",
    "            if t[i] == x:\n",
    "                # here is key find then update value at index with -2 it means slot is deleted\n",
    "                t[i] = -2\n",
    "                # find the key\n",
    "                return True\n",
    "            i = (i+1)%self.cap\n",
    "            if i == h:\n",
    "                # whole table is full, come back to original position, not found\n",
    "                return False\n",
    "        # we got -1 m"
   ]
  },
  {
   "cell_type": "code",
   "execution_count": null,
   "metadata": {},
   "outputs": [],
   "source": []
  }
 ],
 "metadata": {
  "kernelspec": {
   "display_name": "Python 3",
   "language": "python",
   "name": "python3"
  },
  "language_info": {
   "codemirror_mode": {
    "name": "ipython",
    "version": 3
   },
   "file_extension": ".py",
   "mimetype": "text/x-python",
   "name": "python",
   "nbconvert_exporter": "python",
   "pygments_lexer": "ipython3",
   "version": "3.6.9"
  }
 },
 "nbformat": 4,
 "nbformat_minor": 4
}
