{
 "cells": [
  {
   "cell_type": "code",
   "execution_count": 1,
   "metadata": {},
   "outputs": [],
   "source": [
    "class Node:\n",
    "    def __init__(self, k):\n",
    "        self.left = None\n",
    "        self.right = None\n",
    "        self.key = k\n",
    "    \n",
    "root= Node(10)\n",
    "root.left = Node(5)\n",
    "root.right = Node(20)\n",
    "root.left.left = Node(2)"
   ]
  },
  {
   "cell_type": "code",
   "execution_count": 2,
   "metadata": {},
   "outputs": [],
   "source": [
    "def delete_node(root, key):\n",
    "    if root == None:\n",
    "        return\n",
    "    if root.key > key:\n",
    "        root.left = delete_node(root.left, key)\n",
    "    elif root.key < key:\n",
    "        root.right = delete_node(root.right, key)\n",
    "    else:\n",
    "        if root.left == None:\n",
    "            return root.right\n",
    "        elif root.right == None:\n",
    "            return root.left\n",
    "        else:\n",
    "            succ = get_succ(root.right, key)\n",
    "            root.key = succ\n",
    "            root.right = delete_node(root.right, succ)\n",
    "    return root"
   ]
  },
  {
   "cell_type": "code",
   "execution_count": 3,
   "metadata": {},
   "outputs": [],
   "source": [
    "def get_succ(curr, key):\n",
    "    while curr.left != None:\n",
    "        curr = curr.left\n",
    "    return curr.key"
   ]
  },
  {
   "cell_type": "code",
   "execution_count": null,
   "metadata": {},
   "outputs": [],
   "source": []
  }
 ],
 "metadata": {
  "kernelspec": {
   "display_name": "Python 3",
   "language": "python",
   "name": "python3"
  },
  "language_info": {
   "codemirror_mode": {
    "name": "ipython",
    "version": 3
   },
   "file_extension": ".py",
   "mimetype": "text/x-python",
   "name": "python",
   "nbconvert_exporter": "python",
   "pygments_lexer": "ipython3",
   "version": "3.6.9"
  }
 },
 "nbformat": 4,
 "nbformat_minor": 4
}
