{
 "cells": [
  {
   "cell_type": "code",
   "execution_count": 1,
   "metadata": {},
   "outputs": [],
   "source": [
    "class MyHeap:\n",
    "    def __init__(self):\n",
    "        self.arr = []\n",
    "    def parent(self, i):\n",
    "        return (i-1)//2\n",
    "    def lchild(self, i):\n",
    "        return (2*i+2)\n",
    "    def rchild(self, i):\n",
    "        return (2*i-1)\n",
    "    def insert(self, x):\n",
    "        pass\n",
    "    def min_heapify(self, x):\n",
    "        pass\n",
    "    def extract_min(self):\n",
    "        pass\n",
    "    def decrease_key(self, i , x):\n",
    "        pass\n",
    "    def delete(self, i):\n",
    "        pass"
   ]
  },
  {
   "cell_type": "code",
   "execution_count": null,
   "metadata": {},
   "outputs": [],
   "source": []
  }
 ],
 "metadata": {
  "kernelspec": {
   "display_name": "Python 3",
   "language": "python",
   "name": "python3"
  },
  "language_info": {
   "codemirror_mode": {
    "name": "ipython",
    "version": 3
   },
   "file_extension": ".py",
   "mimetype": "text/x-python",
   "name": "python",
   "nbconvert_exporter": "python",
   "pygments_lexer": "ipython3",
   "version": "3.6.9"
  }
 },
 "nbformat": 4,
 "nbformat_minor": 4
}
