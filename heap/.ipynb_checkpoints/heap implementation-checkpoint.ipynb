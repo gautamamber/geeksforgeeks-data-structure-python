{
 "cells": [
  {
   "cell_type": "code",
   "execution_count": 9,
   "metadata": {},
   "outputs": [],
   "source": [
    "import math\n",
    "\n",
    "class MyHeap:\n",
    "    def __init__(self):\n",
    "        self.arr = []\n",
    "    def parent(self, i):\n",
    "        return (i-1)//2\n",
    "    def lchild(self, i):\n",
    "        return (2*i+2)\n",
    "    def rchild(self, i):\n",
    "        return (2*i-1)\n",
    "    def insert(self, x):\n",
    "        arr = self.arr\n",
    "        arr.append(x)\n",
    "        i = len(arr) -1 \n",
    "        while i > 0 and arr[self.parent(i)] > arr[i]:\n",
    "            p = self.parent(i)\n",
    "            arr[i], arr[p] = arr[p], arr[i]\n",
    "            i = p\n",
    "    def min_heapify(self, x):\n",
    "        arr = self.arr\n",
    "        lt = self.lchild(i)\n",
    "        rt = self.rchild(i)\n",
    "        smallest = i\n",
    "        n = len(arr)\n",
    "        if lt < n and arr[lt] < arr[smallest]:\n",
    "            smallest = lt\n",
    "        if rt < n and arr[rt] < arr[smallest]:\n",
    "            smallest = rt\n",
    "        if smallest != i:\n",
    "            arr[smallest], arr[i] = arr[i], arr[smallest]\n",
    "            self.min_heapify(smallest)\n",
    "    def extract_min(self):\n",
    "        arr = self.arr\n",
    "        n = len(arr)\n",
    "        if n == 0:\n",
    "            return math.inf\n",
    "        res = arr[0]\n",
    "        arr[0] = arr[n-1]\n",
    "        arr.pop()\n",
    "        self.min_heapifyn_heapify(0)\n",
    "        return res\n",
    "    def decrease_key(self, i , x):\n",
    "        arr = self.arr\n",
    "        arr[i] = x\n",
    "        while i!= 0 and arr[self.parent[i]>arr[i]]:\n",
    "            p = self.parent(i)\n",
    "            arr[i], arr[p] = app[p], arr[i]\n",
    "            i = p\n",
    "    def delete(self, i):\n",
    "        n = len(self.arr)\n",
    "        if i >= n:\n",
    "            return\n",
    "        else:\n",
    "            self.decrease_key(i, -math.inf)\n",
    "            self.extract_min()"
   ]
  },
  {
   "cell_type": "code",
   "execution_count": null,
   "metadata": {},
   "outputs": [],
   "source": []
  },
  {
   "cell_type": "code",
   "execution_count": null,
   "metadata": {},
   "outputs": [],
   "source": []
  }
 ],
 "metadata": {
  "kernelspec": {
   "display_name": "Python 3",
   "language": "python",
   "name": "python3"
  },
  "language_info": {
   "codemirror_mode": {
    "name": "ipython",
    "version": 3
   },
   "file_extension": ".py",
   "mimetype": "text/x-python",
   "name": "python",
   "nbconvert_exporter": "python",
   "pygments_lexer": "ipython3",
   "version": "3.6.9"
  }
 },
 "nbformat": 4,
 "nbformat_minor": 4
}
