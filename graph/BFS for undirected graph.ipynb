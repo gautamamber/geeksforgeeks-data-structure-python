{
 "cells": [
  {
   "cell_type": "code",
   "execution_count": 2,
   "metadata": {},
   "outputs": [],
   "source": [
    "from collections import deque\n",
    "def bfs(adj, s, visited):\n",
    "    # pass adj and source\n",
    "    # very similar to tree traversal\n",
    "    visited = [False] * len(adj)\n",
    "    q = deque()\n",
    "    q.append(s)\n",
    "    visited[s] = True\n",
    "    while q:\n",
    "        print(q)\n",
    "        s = q.popleft()\n",
    "        print(s, end=\"\")\n",
    "    for u in adj[s]:\n",
    "        if visited[u] == False:\n",
    "            q.append(u)\n",
    "            visited[u] = True\n",
    "    "
   ]
  },
  {
   "cell_type": "code",
   "execution_count": 3,
   "metadata": {},
   "outputs": [],
   "source": [
    "def bfsdis(adj):\n",
    "    visited = [False] * len(adj)\n",
    "    for u in adj:\n",
    "        if visited[u] == False:\n",
    "            bfs(adj, u, visited)"
   ]
  },
  {
   "cell_type": "code",
   "execution_count": null,
   "metadata": {},
   "outputs": [],
   "source": []
  }
 ],
 "metadata": {
  "kernelspec": {
   "display_name": "Python 3",
   "language": "python",
   "name": "python3"
  },
  "language_info": {
   "codemirror_mode": {
    "name": "ipython",
    "version": 3
   },
   "file_extension": ".py",
   "mimetype": "text/x-python",
   "name": "python",
   "nbconvert_exporter": "python",
   "pygments_lexer": "ipython3",
   "version": "3.6.9"
  }
 },
 "nbformat": 4,
 "nbformat_minor": 4
}
